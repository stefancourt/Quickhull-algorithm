{
 "cells": [
  {
   "cell_type": "code",
   "execution_count": 1,
   "id": "686dfb57",
   "metadata": {},
   "outputs": [
    {
     "name": "stdout",
     "output_type": "stream",
     "text": [
      "Requirement already satisfied: scipy in /Library/Frameworks/Python.framework/Versions/3.11/lib/python3.11/site-packages (1.11.4)\n",
      "Requirement already satisfied: numpy<1.28.0,>=1.21.6 in /Library/Frameworks/Python.framework/Versions/3.11/lib/python3.11/site-packages (from scipy) (1.26.2)\n",
      "Requirement already satisfied: matplotlib in /Library/Frameworks/Python.framework/Versions/3.11/lib/python3.11/site-packages (3.8.1)\n",
      "Requirement already satisfied: contourpy>=1.0.1 in /Library/Frameworks/Python.framework/Versions/3.11/lib/python3.11/site-packages (from matplotlib) (1.2.0)\n",
      "Requirement already satisfied: cycler>=0.10 in /Library/Frameworks/Python.framework/Versions/3.11/lib/python3.11/site-packages (from matplotlib) (0.12.1)\n",
      "Requirement already satisfied: fonttools>=4.22.0 in /Library/Frameworks/Python.framework/Versions/3.11/lib/python3.11/site-packages (from matplotlib) (4.44.0)\n",
      "Requirement already satisfied: kiwisolver>=1.3.1 in /Library/Frameworks/Python.framework/Versions/3.11/lib/python3.11/site-packages (from matplotlib) (1.4.5)\n",
      "Requirement already satisfied: numpy<2,>=1.21 in /Library/Frameworks/Python.framework/Versions/3.11/lib/python3.11/site-packages (from matplotlib) (1.26.2)\n",
      "Requirement already satisfied: packaging>=20.0 in /Library/Frameworks/Python.framework/Versions/3.11/lib/python3.11/site-packages (from matplotlib) (23.2)\n",
      "Requirement already satisfied: pillow>=8 in /Library/Frameworks/Python.framework/Versions/3.11/lib/python3.11/site-packages (from matplotlib) (10.1.0)\n",
      "Requirement already satisfied: pyparsing>=2.3.1 in /Library/Frameworks/Python.framework/Versions/3.11/lib/python3.11/site-packages (from matplotlib) (3.1.1)\n",
      "Requirement already satisfied: python-dateutil>=2.7 in /Library/Frameworks/Python.framework/Versions/3.11/lib/python3.11/site-packages (from matplotlib) (2.8.2)\n",
      "Requirement already satisfied: six>=1.5 in /Library/Frameworks/Python.framework/Versions/3.11/lib/python3.11/site-packages (from python-dateutil>=2.7->matplotlib) (1.16.0)\n",
      "Requirement already satisfied: numpy in /Library/Frameworks/Python.framework/Versions/3.11/lib/python3.11/site-packages (1.26.2)\n"
     ]
    }
   ],
   "source": [
    "!pip install scipy\n",
    "!pip install matplotlib\n",
    "!pip install numpy"
   ]
  },
  {
   "cell_type": "code",
   "execution_count": 2,
   "id": "baf9cefd",
   "metadata": {},
   "outputs": [],
   "source": [
    "import matplotlib\n",
    "import matplotlib.pyplot as plt\n",
    "import matplotlib.animation\n",
    "import numpy as np\n",
    "from typing import List, Set, Dict, Tuple\n",
    "from scipy.spatial import ConvexHull"
   ]
  },
  {
   "cell_type": "code",
   "execution_count": 3,
   "id": "c94bbb4d",
   "metadata": {},
   "outputs": [],
   "source": [
    "# Set is used as no duplicate points are used\n",
    "result = set()"
   ]
  },
  {
   "cell_type": "code",
   "execution_count": 4,
   "id": "cfdbef05",
   "metadata": {},
   "outputs": [],
   "source": [
    "def line_distance(a: Tuple[int, int], b: Tuple[int, int], x: Tuple[int, int]) -> int:\n",
    "    '''Returns the distance between point x and the line between points a and b'''\n",
    "    return abs((x[1] - a[1]) * (b[0] - a[0]) - \n",
    "               (b[1] - a[1]) * (x[0] - a[0]))"
   ]
  },
  {
   "cell_type": "code",
   "execution_count": 5,
   "id": "1aea1bee",
   "metadata": {},
   "outputs": [],
   "source": [
    "def search_side(a: Tuple[int, int], b: Tuple[int, int], x: Tuple[int, int]) -> int:\n",
    "    '''Find the side that of point x with respect to the line that joins a and b'''\n",
    "    res = (x[1] - a[1]) * (b[0] - a[0]) - (b[1] - a[1]) * (x[0] - a[0])\n",
    "    if res > 0:\n",
    "        return 1\n",
    "    if res < 0:\n",
    "        return -1\n",
    "    return 0"
   ]
  },
  {
   "cell_type": "code",
   "execution_count": 6,
   "id": "a43e5689",
   "metadata": {},
   "outputs": [],
   "source": [
    "def quickhull(points: List[int], length: int, a: Tuple[int, int], b: Tuple[int, int], side: int) -> None:\n",
    "    '''Computes the quickhull algorithm'''\n",
    "    index = -1\n",
    "    max_distance = 0\n",
    "    \n",
    "    # Finding the point with the maximum distance\n",
    "    # From the line and on the specified side of the line\n",
    "    for i in range(length):\n",
    "        temp = line_distance(a, b, points[i])\n",
    "        \n",
    "        if (search_side(a, b, points[i]) == side) and (temp > max_distance):\n",
    "            index = i\n",
    "            max_distance = temp\n",
    "    \n",
    "    # If no point is found and the points to the convex hull\n",
    "    if index == -1:\n",
    "        result.add(\"/\".join(map(str, a)))\n",
    "        result.add(\"/\".join(map(str, b)))\n",
    "        return\n",
    "    \n",
    "    # Recursive part for the next points\n",
    "    quickhull(points, length, points[index], a, -search_side(points[index], a, b))\n",
    "    quickhull(points, length, points[index], b, -search_side(points[index], b, a))"
   ]
  },
  {
   "cell_type": "code",
   "execution_count": 7,
   "id": "c42a9cd1",
   "metadata": {},
   "outputs": [],
   "source": [
    "def printhull(points: List[int], length: int) -> None:\n",
    "    '''Takes the input points and length of the list'''\n",
    "    if (length < 3):\n",
    "        print(\"Convex hull is not possible with too little points\")\n",
    "        return        \n",
    "        \n",
    "        \n",
    "    # Finding the point with the maximum and minimum value\n",
    "    min_x = 0\n",
    "    max_x = 0\n",
    "    for i in range(1, length):\n",
    "        if points[i][0] < points[min_x][0]:\n",
    "            min_x = i\n",
    "        if points[i][0] > points[max_x][0]:\n",
    "            max_x = i\n",
    "    \n",
    "    # find points on one side of the line between min and max x value\n",
    "    quickhull(points, length, points[min_x], points[max_x], 1)\n",
    "    # find points on other side of the line between min and max x value\n",
    "    quickhull(points, length, points[min_x], points[max_x], -1)\n",
    "    \n",
    "    print(\"Points in the Convex Hull:\")\n",
    "    convex_hull_list = []\n",
    "    for element in result:\n",
    "        x = element.split(\"/\")\n",
    "        convex_hull_list.append((int(x[0]), int(x[1])))\n",
    "        print(\"(\", x[0], \",\", x[1], \") \", end = \" \")\n",
    "        \n",
    "    #Initialise data with points from convex hull list\n",
    "    xdata=[]\n",
    "    ydata=[]\n",
    "    for xval,yval in convex_hull_list:\n",
    "        xdata.append(xval)\n",
    "        ydata.append(yval)\n",
    "        \n",
    "    # Create figure\n",
    "    fig = plt.figure()\n",
    "    # Add margins to make points more clear\n",
    "    plt.margins(x=0.2, y=0.2)\n",
    "\n",
    "    # Generate graph with all points\n",
    "    l, = plt.plot(points[:, 0], points[:, 1], '.', color='k', linestyle='')\n",
    "    plt.title(\"Convex Hull Points\")\n",
    "        \n",
    "    def update_line(i: int) -> matplotlib.figure.Figure:\n",
    "        # Update graph with new point from convex hull\n",
    "        l, = plt.plot(xdata[:i],ydata[:i], marker='o', color='g', linestyle='')\n",
    "        return l\n",
    "    \n",
    "    # Add animation to the graph\n",
    "    ani = matplotlib.animation.FuncAnimation(fig, update_line,\n",
    "                frames=len(xdata)+1, interval=50, repeat=True)\n",
    "    \n",
    "    # Update the graph every second\n",
    "    writergif = matplotlib.animation.PillowWriter(fps=1)\n",
    "    ani.save('quickhull.gif',writer=writergif)\n",
    "    plt.draw()"
   ]
  },
  {
   "cell_type": "code",
   "execution_count": 8,
   "id": "fbfb9065",
   "metadata": {},
   "outputs": [],
   "source": [
    "points = [[0, 5], [2, 1], [3, 2], [4, 4],\n",
    "            [1, 0], [1, 6], [4, 1], [3, 3]];\n",
    "# To allow easier splicing for generating graphs\n",
    "points = np.asarray(points)"
   ]
  },
  {
   "cell_type": "code",
   "execution_count": 9,
   "id": "8c11a5f9",
   "metadata": {
    "scrolled": false
   },
   "outputs": [
    {
     "name": "stdout",
     "output_type": "stream",
     "text": [
      "Points in the Convex Hull:\n",
      "( 0 , 5 )  ( 4 , 4 )  ( 4 , 1 )  ( 1 , 6 )  ( 1 , 0 )  "
     ]
    },
    {
     "data": {
      "image/png": "[encoded data removed]",
      "text/plain": [
       "<Figure size 432x288 with 1 Axes>"
      ]
     },
     "metadata": {
      "needs_background": "light"
     },
     "output_type": "display_data"
    }
   ],
   "source": [
    "length = len(points)\n",
    "printhull(points, length)"
   ]
  },
  {
   "cell_type": "code",
   "execution_count": 10,
   "id": "41831a56",
   "metadata": {},
   "outputs": [
    {
     "data": {
      "image/png": "[encoded data removed]",
      "text/plain": [
       "<Figure size 432x288 with 1 Axes>"
      ]
     },
     "metadata": {
      "needs_background": "light"
     },
     "output_type": "display_data"
    },
    {
     "data": {
      "image/png": "[encoded data removed]",
      "text/plain": [
       "<Figure size 432x288 with 1 Axes>"
      ]
     },
     "metadata": {
      "needs_background": "light"
     },
     "output_type": "display_data"
    }
   ],
   "source": [
    "hull = ConvexHull(points)\n",
    "\n",
    "for plot_id in (1, 2):\n",
    "    fig, ax = plt.subplots(ncols=1)\n",
    "    # Add margins to make points more clear\n",
    "    ax.margins(0.2, 0.2)\n",
    "    # Generate graph with all points\n",
    "    ax.plot(points[:, 0], points[:, 1], '.', color='k')\n",
    "    if plot_id == 1:\n",
    "        ax.set_title('Initial Points')\n",
    "    else:\n",
    "        ax.set_title('Convex Hull')\n",
    "        for simplex in hull.simplices:\n",
    "            # Plot lines between points of the convexhull\n",
    "            ax.plot(points[simplex, 0], points[simplex, 1], 'green')\n",
    "        # Highlight points that are part of the convex hull\n",
    "        ax.plot(points[hull.vertices, 0], points[hull.vertices, 1], 'o', mec='green',\n",
    "                color='none', lw=1, markersize=10)\n",
    "    plt.show()"
   ]
  },
  {
   "cell_type": "code",
   "execution_count": null,
   "id": "34bed78a",
   "metadata": {},
   "outputs": [],
   "source": []
  }
 ],
 "metadata": {
  "kernelspec": {
   "display_name": "Python 3 (ipykernel)",
   "language": "python",
   "name": "python3"
  },
  "language_info": {
   "codemirror_mode": {
    "name": "ipython",
    "version": 3
   },
   "file_extension": ".py",
   "mimetype": "text/x-python",
   "name": "python",
   "nbconvert_exporter": "python",
   "pygments_lexer": "ipython3",
   "version": "3.9.6"
  }
 },
 "nbformat": 4,
 "nbformat_minor": 5
}
