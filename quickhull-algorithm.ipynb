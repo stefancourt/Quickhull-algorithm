{
 "cells": [
  {
   "cell_type": "code",
   "execution_count": 9,
   "id": "686dfb57",
   "metadata": {},
   "outputs": [
    {
     "data": {
      "text/plain": [
       "'\\n!pip install scipy\\n!pip install matplotlib\\n!pip install numpy\\n'"
      ]
     },
     "execution_count": 9,
     "metadata": {},
     "output_type": "execute_result"
    }
   ],
   "source": [
    "'''\n",
    "!pip install scipy\n",
    "!pip install matplotlib\n",
    "!pip install numpy\n",
    "'''"
   ]
  },
  {
   "cell_type": "code",
   "execution_count": 2,
   "id": "baf9cefd",
   "metadata": {},
   "outputs": [],
   "source": [
    "from scipy.spatial import ConvexHull\n",
    "import matplotlib.pyplot as plt\n",
    "import numpy as np"
   ]
  },
  {
   "cell_type": "code",
   "execution_count": 3,
   "id": "c94bbb4d",
   "metadata": {},
   "outputs": [],
   "source": [
    "result = set()"
   ]
  },
  {
   "cell_type": "code",
   "execution_count": 4,
   "id": "cfdbef05",
   "metadata": {},
   "outputs": [],
   "source": [
    "'''Returns the distance between point x and \n",
    "   the line between points a and b'''\n",
    "def line_distance(a, b, x):\n",
    "    # absolute used to make negative values positive\n",
    "    return abs((x[1] - a[1]) * (b[0] - a[0]) - \n",
    "              (b[1] - a[1]) * (x[0] - a[0]))"
   ]
  },
  {
   "cell_type": "code",
   "execution_count": 5,
   "id": "1aea1bee",
   "metadata": {},
   "outputs": [],
   "source": [
    "def search_side(a, b, x):\n",
    "    res = (x[1] - a[1]) * (b[0] - a[0]) - (b[1] - a[1]) * (x[0] - a[0])\n",
    "    if res > 0:\n",
    "        return 1\n",
    "    if res < 0:\n",
    "        return -1\n",
    "    return 0"
   ]
  },
  {
   "cell_type": "code",
   "execution_count": 6,
   "id": "a43e5689",
   "metadata": {},
   "outputs": [],
   "source": [
    "def quickhull(points, length, a, b, side):\n",
    "    \n",
    "    index = -1\n",
    "    max_distance = 0\n",
    "    \n",
    "    for i in range(length):\n",
    "        temp = line_distance(a, b, points[i])\n",
    "        \n",
    "        if (search_side(a, b, points[i]) == side) and (temp > max_distance):\n",
    "            index = i\n",
    "            max_distance = temp\n",
    "    \n",
    "    if index == -1:\n",
    "        result.add(\"/\".join(map(str, a)))\n",
    "        result.add(\"/\".join(map(str, b)))\n",
    "        return\n",
    "    \n",
    "    # Recursive part for the next points\n",
    "    quickhull(points, length, points[index], a, -search_side(points[index], a, b))\n",
    "    quickhull(points, length, points[index], b, -search_side(points[index], b, a))"
   ]
  },
  {
   "cell_type": "code",
   "execution_count": 7,
   "id": "c42a9cd1",
   "metadata": {},
   "outputs": [],
   "source": [
    "def printhull(points, length):\n",
    "    if (length < 3):\n",
    "        print(\"Convex hull is not possible with too little points\")\n",
    "        return\n",
    "    \n",
    "    min_x = 0\n",
    "    max_x = 0\n",
    "    for i in range(1, length):\n",
    "        if points[i][0] < points[min_x][0]:\n",
    "            min_x = i\n",
    "        if points[i][0] > points[max_x][0]:\n",
    "            max_x = i\n",
    "    \n",
    "    # find points on one side of the line between min and max x value\n",
    "    quickhull(points, length, points[min_x], points[max_x], 1)\n",
    "    # find points on other side of the line between min and max x value\n",
    "    quickhull(points, length, points[min_x], points[max_x], -1)\n",
    "    \n",
    "    print(\"Points in the Convex Hull:\")\n",
    "    \n",
    "    for element in result:\n",
    "        x = element.split(\"/\")\n",
    "        print(\"(\", x[0], \",\", x[1], \") \", end = \" \")"
   ]
  },
  {
   "cell_type": "code",
   "execution_count": 41,
   "id": "8c11a5f9",
   "metadata": {},
   "outputs": [
    {
     "name": "stdout",
     "output_type": "stream",
     "text": [
      "Points in the Convex Hull:\n",
      "( 3 , 1 )  ( 0 , 0 )  ( 1 , 1 )  ( 0 , 3 )  ( 4 , 4 )  "
     ]
    }
   ],
   "source": [
    "points = [[0, 3], [1, 1], [2, 2], [4, 4],\n",
    "            [0, 0], [1, 2], [3, 1], [3, 3]];\n",
    "length = len(points)\n",
    "printhull(points, length)"
   ]
  },
  {
   "cell_type": "code",
   "execution_count": 50,
   "id": "41831a56",
   "metadata": {},
   "outputs": [
    {
     "data": {
      "image/png": "[encoded data removed]",
      "text/plain": [
       "<Figure size 720x432 with 1 Axes>"
      ]
     },
     "metadata": {
      "needs_background": "light"
     },
     "output_type": "display_data"
    },
    {
     "data": {
      "image/png": "[encoded data removed]",
      "text/plain": [
       "<Figure size 720x432 with 1 Axes>"
      ]
     },
     "metadata": {
      "needs_background": "light"
     },
     "output_type": "display_data"
    }
   ],
   "source": [
    "points = np.asarray(points)\n",
    "hull = ConvexHull(points)\n",
    "for plot_id in (1, 2):\n",
    "    fig, ax = plt.subplots(ncols=1, figsize=(10, 6))\n",
    "    ax.plot(points[:, 0], points[:, 1], '.', color='k')\n",
    "    if plot_id == 1:\n",
    "        ax.set_title('Given points')\n",
    "    else:\n",
    "        ax.set_title('Convex hull')\n",
    "        for simplex in hull.simplices:\n",
    "            ax.plot(points[simplex, 0], points[simplex, 1], 'mediumpurple')\n",
    "        ax.plot(points[hull.vertices, 0], points[hull.vertices, 1], 'o', mec='purple', color='none', lw=1, markersize=10)\n",
    "    plt.show()"
   ]
  }
 ],
 "metadata": {
  "kernelspec": {
   "display_name": "Python 3 (ipykernel)",
   "language": "python",
   "name": "python3"
  },
  "language_info": {
   "codemirror_mode": {
    "name": "ipython",
    "version": 3
   },
   "file_extension": ".py",
   "mimetype": "text/x-python",
   "name": "python",
   "nbconvert_exporter": "python",
   "pygments_lexer": "ipython3",
   "version": "3.9.6"
  }
 },
 "nbformat": 4,
 "nbformat_minor": 5
}
